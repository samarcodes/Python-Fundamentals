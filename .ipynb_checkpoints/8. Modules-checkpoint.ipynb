{
 "cells": [
  {
   "cell_type": "markdown",
   "metadata": {},
   "source": [
    "# Modules in Python"
   ]
  },
  {
   "cell_type": "code",
   "execution_count": 1,
   "metadata": {},
   "outputs": [],
   "source": [
    "import calculator as cal\n",
    "# we can import module by giving alias \n",
    "# we can import methods of module by giving alias as well"
   ]
  },
  {
   "cell_type": "code",
   "execution_count": 5,
   "metadata": {},
   "outputs": [
    {
     "name": "stdout",
     "output_type": "stream",
     "text": [
      "30\n",
      "-10\n",
      "200\n",
      "0.5\n",
      "10\n"
     ]
    }
   ],
   "source": [
    "print(cal.add(10,20))\n",
    "print(cal.sub(10,20))\n",
    "print(cal.mul(10,20))\n",
    "print(cal.div(10,20))\n",
    "print(cal.mod(10,20))"
   ]
  },
  {
   "cell_type": "code",
   "execution_count": 3,
   "metadata": {},
   "outputs": [
    {
     "data": {
      "text/plain": [
       "'samar'"
      ]
     },
     "execution_count": 3,
     "metadata": {},
     "output_type": "execute_result"
    }
   ],
   "source": [
    "cal.CONSTANT"
   ]
  },
  {
   "cell_type": "code",
   "execution_count": 7,
   "metadata": {},
   "outputs": [
    {
     "name": "stdout",
     "output_type": "stream",
     "text": [
      "<class 'calculator.A'>\n"
     ]
    }
   ],
   "source": [
    "a = cal.A()\n",
    "print(type(a))"
   ]
  },
  {
   "cell_type": "code",
   "execution_count": 9,
   "metadata": {},
   "outputs": [
    {
     "name": "stdout",
     "output_type": "stream",
     "text": [
      "<class 'module'>\n"
     ]
    }
   ],
   "source": [
    "print(type(cal))"
   ]
  },
  {
   "cell_type": "markdown",
   "metadata": {},
   "source": [
    "# import ways"
   ]
  },
  {
   "cell_type": "markdown",
   "metadata": {},
   "source": [
    "filtered import"
   ]
  },
  {
   "cell_type": "code",
   "execution_count": 10,
   "metadata": {},
   "outputs": [
    {
     "data": {
      "text/plain": [
       "30"
      ]
     },
     "execution_count": 10,
     "metadata": {},
     "output_type": "execute_result"
    }
   ],
   "source": [
    "from calculator import add\n",
    "\n",
    "add(10, 20)"
   ]
  },
  {
   "cell_type": "code",
   "execution_count": 11,
   "metadata": {},
   "outputs": [],
   "source": [
    "# NOT RECOMMENDED adds unnecessary methods as well\n",
    "from calculator import *"
   ]
  },
  {
   "cell_type": "code",
   "execution_count": 13,
   "metadata": {},
   "outputs": [
    {
     "name": "stdout",
     "output_type": "stream",
     "text": [
      "30\n",
      "10\n",
      "200\n",
      "2.0\n",
      "0\n"
     ]
    }
   ],
   "source": [
    "print(add(20, 10))\n",
    "print(sub(20, 10))\n",
    "print(mul(20, 10))\n",
    "print(div(20, 10))\n",
    "print(mod(20, 10))"
   ]
  },
  {
   "cell_type": "code",
   "execution_count": 14,
   "metadata": {},
   "outputs": [
    {
     "name": "stdout",
     "output_type": "stream",
     "text": [
      "{'__name__': '__main__', '__doc__': 'Automatically created module for IPython interactive environment', '__package__': None, '__loader__': None, '__spec__': None, '__builtin__': <module 'builtins' (built-in)>, '__builtins__': <module 'builtins' (built-in)>, '_ih': ['', 'import calculator as cal', 'cal.add(10,20)', 'cal.CONSTANT', 'cal.add(10,20)\\ncal.sub(10,20)\\ncal.mul(10,20)\\ncal.div(10,20)\\ncal.mod(10,20)', 'print(cal.add(10,20))\\nprint(cal.sub(10,20))\\nprint(cal.mul(10,20))\\nprint(cal.div(10,20))\\nprint(cal.mod(10,20))', 'a = cla.A()\\nprint(type(a))', 'a = cal.A()\\nprint(type(a))', 'print(type(cal))', 'print(type(cal))', 'from calculator import add\\n\\nadd(10, 20)', 'from calculator import *', 'add(20, 10)\\nsub(20, 10)\\nmul(20, 10)\\ndiv(20, 10)\\nmod(20, 10)', 'print(add(20, 10))\\nprint(sub(20, 10))\\nprint(mul(20, 10))\\nprint(div(20, 10))\\nprint(mod(20, 10))', 'print(globals()) #globals() shows all methods that are in scope of current file'], '_oh': {2: 30, 3: 'samar', 4: 10, 10: 30, 12: 0}, '_dh': ['C:\\\\Kalra\\\\programming\\\\Coding Blocks\\\\Python Fundamentals'], 'In': ['', 'import calculator as cal', 'cal.add(10,20)', 'cal.CONSTANT', 'cal.add(10,20)\\ncal.sub(10,20)\\ncal.mul(10,20)\\ncal.div(10,20)\\ncal.mod(10,20)', 'print(cal.add(10,20))\\nprint(cal.sub(10,20))\\nprint(cal.mul(10,20))\\nprint(cal.div(10,20))\\nprint(cal.mod(10,20))', 'a = cla.A()\\nprint(type(a))', 'a = cal.A()\\nprint(type(a))', 'print(type(cal))', 'print(type(cal))', 'from calculator import add\\n\\nadd(10, 20)', 'from calculator import *', 'add(20, 10)\\nsub(20, 10)\\nmul(20, 10)\\ndiv(20, 10)\\nmod(20, 10)', 'print(add(20, 10))\\nprint(sub(20, 10))\\nprint(mul(20, 10))\\nprint(div(20, 10))\\nprint(mod(20, 10))', 'print(globals()) #globals() shows all methods that are in scope of current file'], 'Out': {2: 30, 3: 'samar', 4: 10, 10: 30, 12: 0}, 'get_ipython': <bound method InteractiveShell.get_ipython of <ipykernel.zmqshell.ZMQInteractiveShell object at 0x0000007CFB93FB38>>, 'exit': <IPython.core.autocall.ZMQExitAutocall object at 0x0000007CFC7593C8>, 'quit': <IPython.core.autocall.ZMQExitAutocall object at 0x0000007CFC7593C8>, '_': 0, '__': 30, '___': 10, '_i': 'print(add(20, 10))\\nprint(sub(20, 10))\\nprint(mul(20, 10))\\nprint(div(20, 10))\\nprint(mod(20, 10))', '_ii': 'add(20, 10)\\nsub(20, 10)\\nmul(20, 10)\\ndiv(20, 10)\\nmod(20, 10)', '_iii': 'from calculator import *', '_i1': 'import calculator as cal', 'cal': <module 'calculator' from 'C:\\\\Kalra\\\\programming\\\\Coding Blocks\\\\Python Fundamentals\\\\calculator.py'>, '_i2': 'cal.add(10,20)', '_2': 30, '_i3': 'cal.CONSTANT', '_3': 'samar', '_i4': 'cal.add(10,20)\\ncal.sub(10,20)\\ncal.mul(10,20)\\ncal.div(10,20)\\ncal.mod(10,20)', '_4': 10, '_i5': 'print(cal.add(10,20))\\nprint(cal.sub(10,20))\\nprint(cal.mul(10,20))\\nprint(cal.div(10,20))\\nprint(cal.mod(10,20))', '_i6': 'a = cla.A()\\nprint(type(a))', '_i7': 'a = cal.A()\\nprint(type(a))', 'a': <calculator.A object at 0x0000007CFCB9CA58>, '_i8': 'print(type(cal))', '_i9': 'print(type(cal))', '_i10': 'from calculator import add\\n\\nadd(10, 20)', 'add': <function add at 0x0000007CFC952EA0>, '_10': 30, '_i11': 'from calculator import *', 'CONSTANT': 'samar', 'A': <class 'calculator.A'>, 'sub': <function sub at 0x0000007CFC985AE8>, 'mul': <function mul at 0x0000007CFC9858C8>, 'div': <function div at 0x0000007CFC9859D8>, 'mod': <function mod at 0x0000007CFC985BF8>, '_i12': 'add(20, 10)\\nsub(20, 10)\\nmul(20, 10)\\ndiv(20, 10)\\nmod(20, 10)', '_12': 0, '_i13': 'print(add(20, 10))\\nprint(sub(20, 10))\\nprint(mul(20, 10))\\nprint(div(20, 10))\\nprint(mod(20, 10))', '_i14': 'print(globals()) #globals() shows all methods that are in scope of current file'}\n"
     ]
    }
   ],
   "source": [
    "print(globals()) #globals() shows all methods that are in scope of current file"
   ]
  },
  {
   "cell_type": "code",
   "execution_count": null,
   "metadata": {},
   "outputs": [],
   "source": []
  },
  {
   "cell_type": "code",
   "execution_count": null,
   "metadata": {},
   "outputs": [],
   "source": []
  },
  {
   "cell_type": "code",
   "execution_count": null,
   "metadata": {},
   "outputs": [],
   "source": []
  },
  {
   "cell_type": "code",
   "execution_count": null,
   "metadata": {},
   "outputs": [],
   "source": []
  },
  {
   "cell_type": "code",
   "execution_count": null,
   "metadata": {},
   "outputs": [],
   "source": []
  },
  {
   "cell_type": "code",
   "execution_count": null,
   "metadata": {},
   "outputs": [],
   "source": []
  },
  {
   "cell_type": "code",
   "execution_count": null,
   "metadata": {},
   "outputs": [],
   "source": []
  },
  {
   "cell_type": "code",
   "execution_count": null,
   "metadata": {},
   "outputs": [],
   "source": []
  }
 ],
 "metadata": {
  "kernelspec": {
   "display_name": "Python 3",
   "language": "python",
   "name": "python3"
  },
  "language_info": {
   "codemirror_mode": {
    "name": "ipython",
    "version": 3
   },
   "file_extension": ".py",
   "mimetype": "text/x-python",
   "name": "python",
   "nbconvert_exporter": "python",
   "pygments_lexer": "ipython3",
   "version": "3.6.5"
  }
 },
 "nbformat": 4,
 "nbformat_minor": 4
}
