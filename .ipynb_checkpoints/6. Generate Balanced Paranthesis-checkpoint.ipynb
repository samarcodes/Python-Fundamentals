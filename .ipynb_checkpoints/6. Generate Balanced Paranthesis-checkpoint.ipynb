{
 "cells": [
  {
   "cell_type": "code",
   "execution_count": 1,
   "metadata": {},
   "outputs": [],
   "source": [
    "def generateParenthesis(openB, closeB, n, s=[]):\n",
    "    #Base Case\n",
    "    if(closeB==n):\n",
    "        print(''.join(s))\n",
    "        return\n",
    "    \n",
    "    else:\n",
    "        if(openB>closeB):\n",
    "            #You can definately put one closing bracket\n",
    "            s.append(')')\n",
    "            generateParenthesis(openB, closeB+1, n, s)\n",
    "            #Backtrack\n",
    "            s.pop()\n",
    "    return"
   ]
  },
  {
   "cell_type": "code",
   "execution_count": null,
   "metadata": {},
   "outputs": [],
   "source": [
    "n = int(input())\n",
    "generateParenthesis(0, 0, n)"
   ]
  },
  {
   "cell_type": "code",
   "execution_count": null,
   "metadata": {},
   "outputs": [],
   "source": []
  }
 ],
 "metadata": {
  "kernelspec": {
   "display_name": "Python 3",
   "language": "python",
   "name": "python3"
  },
  "language_info": {
   "codemirror_mode": {
    "name": "ipython",
    "version": 3
   },
   "file_extension": ".py",
   "mimetype": "text/x-python",
   "name": "python",
   "nbconvert_exporter": "python",
   "pygments_lexer": "ipython3",
   "version": "3.6.5"
  }
 },
 "nbformat": 4,
 "nbformat_minor": 4
}
