{
 "cells": [
  {
   "cell_type": "markdown",
   "metadata": {},
   "source": [
    "# Control flow statements"
   ]
  },
  {
   "cell_type": "markdown",
   "metadata": {},
   "source": [
    "# 1. Conditional statements"
   ]
  },
  {
   "cell_type": "markdown",
   "metadata": {},
   "source": [
    "![](conditions.jpeg)"
   ]
  },
  {
   "cell_type": "markdown",
   "metadata": {},
   "source": [
    "![](http://i.imgur.com/fqJOBUS.png)"
   ]
  },
  {
   "cell_type": "markdown",
   "metadata": {},
   "source": [
    "### Challenge:\n",
    "[Python If-Else](https://www.hackerrank.com/challenges/py-if-else)"
   ]
  },
  {
   "cell_type": "markdown",
   "metadata": {},
   "source": [
    "## Nested if-else\n",
    "\n",
    "Write a python program to input an integer from user and print:\n",
    "- -1 if integer is negative.\n",
    "- 0 if integer is zero.\n",
    "- 1 if integer is positive.\n",
    "\n",
    "What's not cool with this approach???\n",
    "\n",
    "```python\n",
    "if x < 0:\n",
    "   sign = -1\n",
    "if x == 0\n",
    "   sign = 0\n",
    "if x > 0\n",
    "   sign = 1\n",
    "```\n",
    "\n",
    "![](nested.jpeg)"
   ]
  },
  {
   "cell_type": "markdown",
   "metadata": {},
   "source": [
    "# 2. Looping statements"
   ]
  },
  {
   "cell_type": "markdown",
   "metadata": {},
   "source": [
    "## (i) while\n",
    "\n",
    "The while statement allows you to repeatedly execute a block of statements as long as a condition is true.\n",
    "\n",
    "![](http://csharp.net-informations.com/statements/img/while-loop.png)"
   ]
  },
  {
   "cell_type": "markdown",
   "metadata": {},
   "source": [
    "## (ii) for\n",
    "\n",
    "The for..in statement is another looping statement which iterates over a sequence of objects i.e. go through each item in a sequence.\n",
    "\n",
    "![](https://www.tutorialspoint.com/python/images/python_for_loop.jpg)"
   ]
  },
  {
   "cell_type": "markdown",
   "metadata": {},
   "source": [
    "### Challenge:\n",
    "Solve using **for** as well as **while** loop:\n",
    "[Loops](https://www.hackerrank.com/challenges/python-loops)"
   ]
  },
  {
   "cell_type": "markdown",
   "metadata": {},
   "source": [
    "## Infinite loops\n",
    "\n",
    "Beware!\n",
    "\n",
    "![](infinite.jpg)"
   ]
  },
  {
   "cell_type": "markdown",
   "metadata": {},
   "source": [
    "## Nested loops\n",
    "\n",
    "Yes! Loops can also be nested.\n",
    "\n",
    "Lets do matrix addition!"
   ]
  },
  {
   "cell_type": "markdown",
   "metadata": {},
   "source": [
    "### Challenge for you!\n",
    "\n",
    "Given an integer n, print a nXn matrix with squares (outermost to innermost) having values n, then n-1 and so on.\n",
    "For example, given 5, output is:\n",
    "```\n",
    "5 5 5 5 5\n",
    "5 4 4 4 5\n",
    "5 4 3 4 5\n",
    "5 4 4 4 5 \n",
    "5 5 5 5 5\n",
    "```"
   ]
  },
  {
   "cell_type": "markdown",
   "metadata": {},
   "source": [
    "## break, continue and pass"
   ]
  },
  {
   "cell_type": "markdown",
   "metadata": {},
   "source": [
    "![](http://s2.quickmeme.com/img/16/16026e20fb3aac470be8a03a4c7383e4d1d5b09898222016649a27f268539064.jpg)"
   ]
  }
 ],
 "metadata": {
  "kernelspec": {
   "display_name": "Python 3",
   "language": "python",
   "name": "python3"
  },
  "language_info": {
   "codemirror_mode": {
    "name": "ipython",
    "version": 3
   },
   "file_extension": ".py",
   "mimetype": "text/x-python",
   "name": "python",
   "nbconvert_exporter": "python",
   "pygments_lexer": "ipython3",
   "version": "3.6.1"
  }
 },
 "nbformat": 4,
 "nbformat_minor": 2
}
